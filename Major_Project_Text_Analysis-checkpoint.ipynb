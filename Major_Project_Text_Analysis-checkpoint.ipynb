{
 "cells": [
  {
   "cell_type": "markdown",
   "metadata": {},
   "source": [
    "# Traning a deep learning Model(RNN(GRU) + BIDIRECTIONAL ATTENTION) to detect  the  possiblity of cancer \n",
    "\n",
    "Bidirectional RNN is a type of language model which searches for the text corpus from backwards. it has architecture as follows:-\n",
    "\n",
    "<img src = \"Bidirectional_Rnn.png\"></img>\n"
   ]
  },
  {
   "cell_type": "markdown",
   "metadata": {},
   "source": [
    "it bi-directional deep neural network; at each time-step, t, this network maintains two hidden layers, one for the left-to-right propagation and another for the right to left propagation. it is used in simplify the complex translation model in which we require multiple machine learning model at each stage of ML pipeline."
   ]
  },
  {
   "cell_type": "code",
   "execution_count": 8,
   "metadata": {},
   "outputs": [
    {
     "ename": "ModuleNotFoundError",
     "evalue": "No module named 'gensim'",
     "output_type": "error",
     "traceback": [
      "\u001b[1;31m---------------------------------------------------------------------------\u001b[0m",
      "\u001b[1;31mModuleNotFoundError\u001b[0m                       Traceback (most recent call last)",
      "\u001b[1;32m<ipython-input-8-ec15f3ffe0f1>\u001b[0m in \u001b[0;36m<module>\u001b[1;34m()\u001b[0m\n\u001b[1;32m----> 1\u001b[1;33m \u001b[1;32mimport\u001b[0m \u001b[0mgensim\u001b[0m\u001b[1;33m\u001b[0m\u001b[0m\n\u001b[0m",
      "\u001b[1;31mModuleNotFoundError\u001b[0m: No module named 'gensim'"
     ]
    }
   ],
   "source": [
    "import gensim"
   ]
  },
  {
   "cell_type": "code",
   "execution_count": 6,
   "metadata": {},
   "outputs": [
    {
     "ename": "ModuleNotFoundError",
     "evalue": "No module named 'gensim'",
     "output_type": "error",
     "traceback": [
      "\u001b[1;31m---------------------------------------------------------------------------\u001b[0m",
      "\u001b[1;31mModuleNotFoundError\u001b[0m                       Traceback (most recent call last)",
      "\u001b[1;32m<ipython-input-6-4a05ee481852>\u001b[0m in \u001b[0;36m<module>\u001b[1;34m()\u001b[0m\n\u001b[0;32m     18\u001b[0m \u001b[1;32mfrom\u001b[0m \u001b[0msklearn\u001b[0m\u001b[1;33m.\u001b[0m\u001b[0mpreprocessing\u001b[0m \u001b[1;32mimport\u001b[0m \u001b[0mLabelEncoder\u001b[0m\u001b[1;33m\u001b[0m\u001b[0m\n\u001b[0;32m     19\u001b[0m \u001b[1;33m\u001b[0m\u001b[0m\n\u001b[1;32m---> 20\u001b[1;33m \u001b[1;32mimport\u001b[0m \u001b[0mgensim\u001b[0m\u001b[1;33m\u001b[0m\u001b[0m\n\u001b[0m\u001b[0;32m     21\u001b[0m \u001b[1;33m\u001b[0m\u001b[0m\n\u001b[0;32m     22\u001b[0m \u001b[1;32mimport\u001b[0m \u001b[0mscikitplot\u001b[0m\u001b[1;33m.\u001b[0m\u001b[0mplotters\u001b[0m \u001b[1;32mas\u001b[0m \u001b[0mskplt\u001b[0m\u001b[1;33m\u001b[0m\u001b[0m\n",
      "\u001b[1;31mModuleNotFoundError\u001b[0m: No module named 'gensim'"
     ]
    }
   ],
   "source": [
    "#1. importing the requisite libraries\n",
    "## numpy and pandas will be used for text processing and numerical analysis\n",
    "## Sklearn is a Machine learning toolbox made in python\n",
    "## gensim & nltk are the natural language processing tools in python for tokenizing and text segmentation algorithms\n",
    "import pandas  as pd\n",
    "import numpy as np\n",
    "\n",
    "\n",
    "from sklearn.model_selection import cross_val_predict\n",
    "from sklearn.model_selection import train_test_split\n",
    "from sklearn.linear_model import LogisticRegression\n",
    "from sklearn.metrics import log_loss, accuracy_score\n",
    "from sklearn.feature_extraction.text import CountVectorizer\n",
    "from sklearn.feature_extraction.text import TfidfVectorizer\n",
    "from sklearn.svm import SVC\n",
    "from sklearn.decomposition import TruncatedSVD\n",
    "from sklearn.ensemble import RandomForestClassifier\n",
    "from sklearn.preprocessing import LabelEncoder\n",
    "\n",
    "import gensim\n",
    "\n",
    "import scikitplot.plotters as skplt\n",
    "\n",
    "import nltk\n",
    "\n",
    "import os"
   ]
  },
  {
   "cell_type": "markdown",
   "metadata": {
    "collapsed": true
   },
   "source": [
    " # Loading the data\n",
    "we will use the traning data (approx 80% of the total data) and remaining test data. we will use pandas which represents the csv files in the form of realtion database (unlike sql , it does not impose any condition on dataset and thus we need to remove the unrequired values with defaults)."
   ]
  },
  {
   "cell_type": "code",
   "execution_count": null,
   "metadata": {
    "collapsed": true
   },
   "outputs": [],
   "source": [
    "## as the data is shifted from the \n",
    "df_train_txt = pd.read_csv('../input/training_text', sep='\\|\\|', header=None, skiprows=1, names=[\"ID\",\"Text\"])\n",
    "df_train_var = pd.read_csv('../input/training_variants')\n",
    "df_val_txt = pd.read_csv('../input/test_text', sep='\\|\\|', header=None, skiprows=1, names=[\"ID\",\"Text\"])\n",
    "df_val_var = pd.read_csv('../input/test_variants')\n",
    "\n",
    "df_test_txt = pd.read_csv('../input/stage2_test_text.csv', sep='\\|\\|', header=None, skiprows=1, names=[\"ID\",\"Text\"])\n",
    "df_test_var = pd.read_csv('../input/stage2_test_variants.csv')\n",
    "\n",
    "df_train_txt.dropna(axis=1,how = 'all')"
   ]
  },
  {
   "cell_type": "markdown",
   "metadata": {},
   "source": [
    "# Displaying the data-sets"
   ]
  },
  {
   "cell_type": "code",
   "execution_count": null,
   "metadata": {
    "collapsed": true
   },
   "outputs": [],
   "source": [
    "df_train = pd.merge(df_train_var, df_train_txt, how='left', on='ID')\n",
    "df_train.head()\n",
    "df_test = pd.merge(df_test_var, df_test_txt, how='left', on='ID')\n",
    "df_test.head()\n",
    "df_val = pd.merge(df_val_var, df_val_txt, how='left', on='ID')\n",
    "df_val = df_val[df_val_txt['Class'].notnull()]\n",
    "df_val.head()\n"
   ]
  },
  {
   "cell_type": "markdown",
   "metadata": {},
   "source": [
    "## firstly we will be defining the Word2vec model which produces word embeddings.\n",
    "It has parameters consisting of numpy arrays containing documents. class MySentences will return the list of tokenized sentences in the test data which can be further dissected into token words\n"
   ]
  },
  {
   "cell_type": "code",
   "execution_count": null,
   "metadata": {
    "collapsed": true
   },
   "outputs": [],
   "source": [
    "class MySentences(object):\n",
    "    #MySentences is a generator to produce a list of tokenized sentences \n",
    "    #Arguments:- List of arrays, where each element in the array contains a document.\n",
    "    \n",
    "    def __init__(self, *arrays):\n",
    "        self.arrays = arrays\n",
    " \n",
    "    def __iter__(self):\n",
    "        for array in self.arrays:\n",
    "            for document in array:\n",
    "                for sent in nltk.sent_tokenize(document):\n",
    "                    yield nltk.word_tokenize(sent)\n",
    "\n",
    "\n",
    "#get_word2vec:- Returns trained word2vec\n",
    "    \n",
    "   # Argument : sentences:- iterator for Sentences in report , location (str): Path to save/load word2vec\n",
    "    \n",
    "                        \n",
    "                    \n",
    "\n",
    "                    \n",
    "def get_word2vec(sentences, location):\n",
    "    if os.path.exists(location):\n",
    "        print('Found {}'.format(location))\n",
    "        model = gensim.models.Word2Vec.load(location)\n",
    "        return model\n",
    "    \n",
    "    print('{} not found. training model'.format(location))\n",
    "    model = gensim.models.Word2Vec(sentences, size=100, window=5, min_count=5, workers=8)\n",
    "    print('Model done training. Saving to disk')\n",
    "    model.save(location)\n",
    "    return model"
   ]
  },
  {
   "cell_type": "code",
   "execution_count": null,
   "metadata": {
    "collapsed": true
   },
   "outputs": [],
   "source": [
    "#applying word2vec model on the traning data\n",
    "\n",
    "w2vec = get_word2vec(\n",
    "    MySentences(\n",
    "        df_train['Text'].values, \n",
    "        df_val['Text'].values\n",
    "    ),\n",
    "    'w2vmodel'\n",
    ")"
   ]
  },
  {
   "cell_type": "markdown",
   "metadata": {},
   "source": [
    "# Tokenizer\n",
    "this will take input the sentences and thus will convert them to individual word vector which will be then counted and mapped to the corresponding class "
   ]
  },
  {
   "cell_type": "code",
   "execution_count": null,
   "metadata": {
    "collapsed": true
   },
   "outputs": [],
   "source": [
    "#arguments X:- array/list of sentences to converted into tokens \n",
    "class MyTokenizer:\n",
    "    def __init__(self):\n",
    "        pass\n",
    "    \n",
    "    def fit(self, X, y=None):\n",
    "        return self\n",
    "    \n",
    "    def transform(self, X):\n",
    "        transformed_X = []\n",
    "        for document in X:\n",
    "            tokenized_doc = []\n",
    "            for sent in nltk.sent_tokenize(document):\n",
    "                tokenized_doc += nltk.word_tokenize(sent)\n",
    "            transformed_X.append(np.array(tokenized_doc))\n",
    "        return np.array(transformed_X)\n",
    "    \n",
    "    def fit_transform(self, X, y=None):\n",
    "        return self.transform(X)\n",
    "\n",
    "class MeanEmbeddingVectorizer(object):\n",
    "    def __init__(self, word2vec):\n",
    "        self.word2vec = word2vec\n",
    "        # if a text is empty we should return a vector of zeros\n",
    "        # with the same dimensionality as all the other vectors\n",
    "        self.dim = len(word2vec.wv.syn0[0])\n",
    "\n",
    "    def fit(self, X, y=None):\n",
    "        return self\n",
    "\n",
    "    def transform(self, X):\n",
    "        X = MyTokenizer().fit_transform(X)\n",
    "        \n",
    "        return np.array([\n",
    "            np.mean([self.word2vec.wv[w] for w in words if w in self.word2vec.wv]\n",
    "                    or [np.zeros(self.dim)], axis=0)\n",
    "            for words in X\n",
    "        ])\n",
    "    \n",
    "    def fit_transform(self, X, y=None):\n",
    "        return self.transform(X)"
   ]
  },
  {
   "cell_type": "markdown",
   "metadata": {
    "collapsed": true
   },
   "source": [
    "# RNN :-\n",
    "\n",
    "These are a type of neural network which consist of multiple neural networks connected in a cycle. unlike feedforward network, they can store interenal information and thus gives manyfold improvement in the field of NLP and audio recognition.\n",
    "\n",
    "<img src =\"Recurrent_neural_network_unfold.svg\"></img>\n",
    "\n",
    "Here we will be considering 10000 most recognized words (as most of the medical vocabulary are scantily used but are of great importance) and will be used two RNN's(from fwd and backward of corpus) each able to remember 3000 words\n",
    "\n",
    "Keras is a popular wrapper library used on popular deep learning frameworks like tensorflow and cntk which are used to make  deep learning models using pre defined models\n"
   ]
  },
  {
   "cell_type": "code",
   "execution_count": null,
   "metadata": {
    "collapsed": true
   },
   "outputs": [],
   "source": [
    "from keras.preprocessing.text import Tokenizer\n",
    "from keras.preprocessing.sequence import pad_sequences\n",
    "#describing the constraints\n",
    "VOCABULARY_SIZE = 10000\n",
    "SEQUENCE_LENGTH = 3000\n",
    "# Use the Keras tokenizer\n",
    "tokenizer = Tokenizer(num_words=VOCABULARY_SIZE)\n",
    "#traning word2vec model on the text\n",
    "tokenizer.fit_on_texts(df_train['Text'].values)"
   ]
  },
  {
   "cell_type": "code",
   "execution_count": null,
   "metadata": {
    "collapsed": true
   },
   "outputs": [],
   "source": [
    "# we will be finding the dimensions of the train and test data so as to use as parameters\n",
    "\n",
    "#used to return random sample of items from an axis of object , here frac determines the fraction of dataset to be returned\n",
    "train_set = df_train.sample(frac=1) \n",
    "#now converting the text data for sequences to be fed in the RNN\n",
    "train_set_input = tokenizer.texts_to_sequences(train_set['Text'].values)\n",
    "# as we have 2 RNN (other for reverse mapping) , thus reversing the list\n",
    "train_set_input_reverse = [list(reversed(x)) for x in train_set_input]\n",
    "#makes each  sentence of same sequence by adding redundant values\n",
    "train_set_input_begin = pad_sequences(train_set_input, maxlen=SEQUENCE_LENGTH)\n",
    "\n",
    "train_set_input_end = pad_sequences(train_set_input_reverse, maxlen=SEQUENCE_LENGTH)\n",
    "#converts the values into a vector/dummy  variables \n",
    "train_set_output = pd.get_dummies(train_set['Class']).values\n",
    "\n",
    "print(train_set_input_begin.shape, train_set_input_end.shape, train_set_output.shape)"
   ]
  },
  {
   "cell_type": "code",
   "execution_count": null,
   "metadata": {
    "collapsed": true
   },
   "outputs": [],
   "source": [
    "#similarly for validation set\n",
    "\n",
    "val_set_input = tokenizer.texts_to_sequences(df_val['Text'].values)\n",
    "val_set_input_reverse = [list(reversed(x)) for x in val_set_input]\n",
    "val_set_input_begin = pad_sequences(val_set_input, maxlen=SEQUENCE_LENGTH)\n",
    "val_set_input_end = pad_sequences(val_set_input_reverse, maxlen=SEQUENCE_LENGTH)\n",
    "val_set_output = pd.get_dummies(df_val['Class']).values\n",
    "print(val_set_input_begin.shape, val_set_input_end.shape, val_set_output.shape)"
   ]
  },
  {
   "cell_type": "code",
   "execution_count": null,
   "metadata": {
    "collapsed": true
   },
   "outputs": [],
   "source": [
    "#and for test set\n",
    "\n",
    "test_set_input = tokenizer.texts_to_sequences(df_test['Text'].values)\n",
    "test_set_input_reverse = [list(reversed(x)) for x in test_set_input]\n",
    "test_set_input_begin = pad_sequences(test_set_input, maxlen=SEQUENCE_LENGTH)\n",
    "test_set_input_end = pad_sequences(test_set_input_reverse, maxlen=SEQUENCE_LENGTH)\n",
    "print(test_set_input_begin.shape, test_set_input_end.shape)"
   ]
  },
  {
   "cell_type": "markdown",
   "metadata": {},
   "source": [
    "# Using One hot encoding for encoding genes and variations\n",
    "\n",
    "## one hot encoding consist of vectors of 0/1 corressponding to each gene classification \n",
    "after conversion , we will be aggregrating the genes and the variations based upon the class and genes as two rows. also we will be working\n"
   ]
  },
  {
   "cell_type": "code",
   "execution_count": null,
   "metadata": {
    "collapsed": true
   },
   "outputs": [],
   "source": [
    "# first the gene_lables (i.e class 1 to 9) will be encoded based upon the types of class using LabelEncoder() function of SkLearn \n",
    "# and then we will be concatenating them to make a n*2 matrix. we will be working on the \n",
    "gene_le = LabelEncoder()\n",
    "all_genes = np.concatenate([df_train['Gene'], df_val['Gene'], df_test['Gene']])\n",
    "\n",
    "\n",
    "all_variations = np.concatenate([df_train['Variation'], df_val['Variation'], df_test['Variation']])\n",
    "all_variations = np.asarray([v[0]+v[-1] for v in all_variations])\n",
    "\n",
    "print (\"Unique genes: \", len(np.unique(all_genes)))\n",
    "print (\"Unique variations:\", len(np.unique(all_variations)))\n",
    "\n",
    "#now for the concatenated values , getting indicator  vector for the combined gene values of the traning, testing and validation data\n",
    "\n",
    "gene_encoded = pd.get_dummies(all_genes).values\n",
    "variation_encoded = pd.get_dummies(all_variations).values\n",
    "\n",
    "\n",
    "\n",
    "len_train_set = len(train_set_input)\n",
    "len_val_set = len(val_set_input)\n",
    "len_test_set = len(test_set_input)\n",
    "\n",
    "\n",
    "train_set_input_gene = gene_encoded[:len_train_set]\n",
    "train_set_input_variation = variation_encoded[:len_train_set]\n",
    "\n",
    "\n",
    "val_set_input_gene = gene_encoded[len_train_set:-len_test_set]\n",
    "val_set_input_variation = variation_encoded[len_train_set:-len_test_set]\n",
    "\n",
    "test_set_input_gene = gene_encoded[-len_test_set:]\n",
    "test_set_input_variation = variation_encoded[-len_test_set:]\n",
    "\n",
    "print (len_train_set, len(train_set_input_gene))\n",
    "print (len_val_set, len(val_set_input_gene))\n",
    "print (len_test_set, len(test_set_input_gene))"
   ]
  },
  {
   "attachments": {
    "image.png": {
     "image/png": "[encoded data removed]"
    }
   },
   "cell_type": "markdown",
   "metadata": {},
   "source": [
    "# Attention Model :- \n",
    "\n",
    "here we will be implementing a attention based model which has two levels of network , one focusing on sentence level and other on word level. this allows to find the exact context of the more important words and sentences and thus give superior results for document classification tasks.\n",
    "![image.png](attachment:image.png)\n",
    "\n",
    "here we will be using GRU based sequence encoder which will  have a gate Z which will define how much of the relevant pass information must be kept for understanding"
   ]
  },
  {
   "cell_type": "code",
   "execution_count": null,
   "metadata": {
    "collapsed": true
   },
   "outputs": [],
   "source": [
    "from keras import backend as K\n",
    "from keras.engine.topology import Layer\n",
    "from keras import initializers, regularizers, constraints\n",
    "import numpy as np\n",
    "\n",
    "def dot_product(x, kernel):\n",
    "   \n",
    "    if K.backend() == 'tensorflow':\n",
    "        return K.squeeze(K.dot(x, K.expand_dims(kernel)), axis=-1)\n",
    "    else:\n",
    "        return K.dot(x, kernel)\n",
    "    \n",
    "\n",
    "class AttentionWithContext(Layer):\n",
    "   \n",
    "    def __init__(self,\n",
    "                 W_regularizer=None, u_regularizer=None, b_regularizer=None,\n",
    "                 W_constraint=None, u_constraint=None, b_constraint=None,\n",
    "                 bias=True, **kwargs):\n",
    "\n",
    "        self.supports_masking = True\n",
    "        self.init = initializers.get('glorot_uniform')\n",
    "\n",
    "        self.W_regularizer = regularizers.get(W_regularizer)\n",
    "        self.u_regularizer = regularizers.get(u_regularizer)\n",
    "        self.b_regularizer = regularizers.get(b_regularizer)\n",
    "\n",
    "        self.W_constraint = constraints.get(W_constraint)\n",
    "        self.u_constraint = constraints.get(u_constraint)\n",
    "        self.b_constraint = constraints.get(b_constraint)\n",
    "\n",
    "        self.bias = bias\n",
    "        super(AttentionWithContext, self).__init__(**kwargs)\n",
    "\n",
    "    def build(self, input_shape):\n",
    "        assert len(input_shape) == 3\n",
    "\n",
    "        self.W = self.add_weight((input_shape[-1], input_shape[-1],),\n",
    "                                 initializer=self.init,\n",
    "                                 name='{}_W'.format(self.name),\n",
    "                                 regularizer=self.W_regularizer,\n",
    "                                 constraint=self.W_constraint)\n",
    "        if self.bias:\n",
    "            self.b = self.add_weight((input_shape[-1],),\n",
    "                                     initializer='zero',\n",
    "                                     name='{}_b'.format(self.name),\n",
    "                                     regularizer=self.b_regularizer,\n",
    "                                     constraint=self.b_constraint)\n",
    "\n",
    "        self.u = self.add_weight((input_shape[-1],),\n",
    "                                 initializer=self.init,\n",
    "                                 name='{}_u'.format(self.name),\n",
    "                                 regularizer=self.u_regularizer,\n",
    "                                 constraint=self.u_constraint)\n",
    "\n",
    "        super(AttentionWithContext, self).build(input_shape)\n",
    "\n",
    "    def compute_mask(self, input, input_mask=None):\n",
    "        # do not pass the mask to the next layers\n",
    "        return None\n",
    "\n",
    "    def call(self, x, mask=None):\n",
    "        uit = dot_product(x, self.W)\n",
    "\n",
    "        if self.bias:\n",
    "            uit += self.b\n",
    "\n",
    "        uit = K.tanh(uit)\n",
    "        ait = dot_product(uit, self.u)\n",
    "\n",
    "        a = K.exp(ait)\n",
    "\n",
    "        # apply mask after the exp. will be re-normalized next\n",
    "        if mask is not None:\n",
    "            # Cast the mask to floatX to avoid float64 upcasting in theano\n",
    "            a *= K.cast(mask, K.floatx())\n",
    "\n",
    "        # in some cases especially in the early stages of training the sum may be almost zero\n",
    "        # and this results in NaN's. A workaround is to add a very small positive number ε to the sum.\n",
    "        # a /= K.cast(K.sum(a, axis=1, keepdims=True), K.floatx())\n",
    "        a /= K.cast(K.sum(a, axis=1, keepdims=True) + K.epsilon(), K.floatx())\n",
    "\n",
    "        a = K.expand_dims(a)\n",
    "        weighted_input = x * a\n",
    "        return K.sum(weighted_input, axis=1)\n",
    "\n",
    "    def compute_output_shape(self, input_shape):\n",
    "        return input_shape[0], input_shape[-1]"
   ]
  },
  {
   "cell_type": "code",
   "execution_count": null,
   "metadata": {
    "collapsed": true
   },
   "outputs": [],
   "source": [
    "from keras.models import Sequential, Model\n",
    "from keras.layers import Dense, Embedding, LSTM, GRU, Bidirectional, Merge, Input, concatenate\n",
    "from keras.layers.merge import Concatenate\n",
    "from keras.utils.np_utils import to_categorical\n",
    "from keras.callbacks import ModelCheckpoint\n",
    "from keras.models import load_model\n",
    "from keras.optimizers import Adam\n",
    "# Build out our simple LSTM\n",
    "embed_dim = 128\n",
    "lstm_out = 196\n",
    "\n",
    "# Model saving callback\n",
    "ckpt_callback = ModelCheckpoint('keras_model', \n",
    "                                 monitor='val_loss', \n",
    "                                 verbose=1, \n",
    "                                 save_best_only=True, \n",
    "                                 mode='auto')\n",
    "\n",
    "\n",
    "input_sequence_begin = Input(shape=(train_set_input_begin.shape[1],))\n",
    "input_sequence_end = Input(shape=(train_set_input_end.shape[1],))\n",
    "input_gene = Input(shape=(train_set_input_gene.shape[1],))\n",
    "input_variant = Input(shape=(train_set_input_variation.shape[1],))\n",
    "\n",
    "merged = concatenate([input_gene, input_variant])\n",
    "dense = Dense(32, activation='sigmoid')(merged)\n",
    "\n",
    "embeds_begin = Embedding(VOCABULARY_SIZE, embed_dim, input_length = SEQUENCE_LENGTH)(input_sequence_begin)\n",
    "embeds_out_begin = Bidirectional(GRU(lstm_out, recurrent_dropout=0.2, dropout=0.2, return_sequences=True))(embeds_begin)\n",
    "attention_begin = AttentionWithContext()(embeds_out_begin)\n",
    "\n",
    "embeds_end = Embedding(VOCABULARY_SIZE, embed_dim, input_length = SEQUENCE_LENGTH)(input_sequence_end)\n",
    "embeds_out_end = Bidirectional(GRU(lstm_out, recurrent_dropout=0.2, dropout=0.2, return_sequences=True))(embeds_end)\n",
    "attention_end = AttentionWithContext()(embeds_out_end)\n",
    "\n",
    "merged2 = concatenate([attention_begin, attention_end, dense])\n",
    "dense2 = Dense(9,activation='softmax')(merged2)\n",
    "\n",
    "model = Model(inputs=[input_sequence_begin, input_sequence_end, input_gene, input_variant], outputs=dense2)\n",
    "model.compile(loss = 'categorical_crossentropy', optimizer='adam')\n",
    "print(model.summary())"
   ]
  }
 ],
 "metadata": {
  "kernelspec": {
   "display_name": "Python 3",
   "language": "python",
   "name": "python3"
  },
  "language_info": {
   "codemirror_mode": {
    "name": "ipython",
    "version": 3
   },
   "file_extension": ".py",
   "mimetype": "text/x-python",
   "name": "python",
   "nbconvert_exporter": "python",
   "pygments_lexer": "ipython3",
   "version": "3.6.3"
  }
 },
 "nbformat": 4,
 "nbformat_minor": 2
}
